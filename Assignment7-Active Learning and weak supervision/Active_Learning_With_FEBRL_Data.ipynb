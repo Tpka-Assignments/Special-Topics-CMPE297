{
  "nbformat": 4,
  "nbformat_minor": 0,
  "metadata": {
    "kernelspec": {
      "display_name": "linking",
      "language": "python",
      "name": "linking"
    },
    "language_info": {
      "codemirror_mode": {
        "name": "ipython",
        "version": 3
      },
      "file_extension": ".py",
      "mimetype": "text/x-python",
      "name": "python",
      "nbconvert_exporter": "python",
      "pygments_lexer": "ipython3",
      "version": "3.8.6"
    },
    "colab": {
      "name": "Active_Learning_With_FEBRL_Data.ipynb",
      "provenance": [],
      "machine_shape": "hm"
    },
    "accelerator": "GPU"
  },
  "cells": [
    {
      "cell_type": "markdown",
      "metadata": {
        "id": "Oqn0_h6vuHa7"
      },
      "source": [
        "# Use Active Learning to Link FEBRL People Data"
      ]
    },
    {
      "cell_type": "markdown",
      "metadata": {
        "id": "8O5lzYeVuHbE"
      },
      "source": [
        "<a href=\"https://colab.research.google.com/github/rachhouse/intro-to-data-linking/blob/main/tutorial_notebooks/03_Link_FEBRL_Data_with_Active_Learning.ipynb\" target=\"_parent\"><img src=\"https://colab.research.google.com/assets/colab-badge.svg\" alt=\"Open In Colab\"></a>"
      ]
    },
    {
      "cell_type": "markdown",
      "metadata": {
        "id": "DXoY9WKruHbF"
      },
      "source": [
        "In this tutorial, we'll use the [dedupe library](https://github.com/dedupeio/dedupe) to experiment with an active learning approach to linking our FEBRL people datasets.\n",
        "\n",
        "Once again, we'll use the same training dataset and evaluation functions as the SimSum classification tutorial; these have been included in a separate `.py` file for re-use and convenience, so we can focus on code unique to this tutorial."
      ]
    },
    {
      "cell_type": "markdown",
      "metadata": {
        "id": "YrKyx_b0uHbH"
      },
      "source": [
        "## Google Colab Setup"
      ]
    },
    {
      "cell_type": "code",
      "metadata": {
        "id": "PPcWbxRruHbI"
      },
      "source": [
        "# Check if we're running locally, or in Google Colab.\n",
        "try:\n",
        "    import google.colab\n",
        "    COLAB = True\n",
        "except ModuleNotFoundError:\n",
        "    COLAB = False\n",
        "    \n",
        "# If we're running in Colab, download the tutorial functions file \n",
        "# to the Colab session local directory, and install required libraries.\n",
        "if COLAB:\n",
        "    import requests\n",
        "    \n",
        "    tutorial_functions_url = \"https://raw.githubusercontent.com/rachhouse/intro-to-data-linking/main/tutorial_notebooks/linking_tutorial_functions.py\"\n",
        "    r = requests.get(tutorial_functions_url)\n",
        "    \n",
        "    with open(\"linking_tutorial_functions.py\", \"w\") as fh:\n",
        "        fh.write(r.text)\n",
        "    \n",
        "    !pip install -q altair dedupe dedupe-variable-name jellyfish recordlinkage "
      ],
      "execution_count": 4,
      "outputs": []
    },
    {
      "cell_type": "code",
      "metadata": {
        "colab": {
          "base_uri": "https://localhost:8080/",
          "height": 1000
        },
        "id": "MNpO-bmFuZYx",
        "outputId": "b4e01c57-2b91-432b-e9dc-a4b9fe449166"
      },
      "source": [
        "!pip install dedupe -I"
      ],
      "execution_count": 3,
      "outputs": [
        {
          "output_type": "stream",
          "name": "stdout",
          "text": [
            "Collecting dedupe\n",
            "  Using cached dedupe-2.0.8-cp37-cp37m-manylinux1_x86_64.whl (90 kB)\n",
            "Collecting fastcluster\n",
            "  Using cached fastcluster-1.2.4-cp37-cp37m-manylinux_2_5_x86_64.manylinux1_x86_64.whl (155 kB)\n",
            "Collecting doublemetaphone\n",
            "  Using cached DoubleMetaphone-0.1-cp37-cp37m-manylinux1_x86_64.whl (79 kB)\n",
            "Collecting Levenshtein-search\n",
            "  Using cached Levenshtein_search-1.4.5-cp37-cp37m-manylinux_2_5_x86_64.manylinux1_x86_64.whl (71 kB)\n",
            "Collecting BTrees>=4.1.4\n",
            "  Using cached BTrees-4.9.2-cp37-cp37m-manylinux2010_x86_64.whl (3.6 MB)\n",
            "Collecting typing-extensions\n",
            "  Downloading typing_extensions-4.0.1-py3-none-any.whl (22 kB)\n",
            "Collecting highered>=0.2.0\n",
            "  Using cached highered-0.2.1-py2.py3-none-any.whl (3.3 kB)\n",
            "Collecting rlr>=2.4.3\n",
            "  Using cached rlr-2.4.5-py2.py3-none-any.whl (4.8 kB)\n",
            "Collecting simplecosine>=1.2\n",
            "  Using cached simplecosine-1.2-py2.py3-none-any.whl (3.2 kB)\n",
            "Collecting affinegap>=1.3\n",
            "  Using cached affinegap-1.11-cp37-cp37m-manylinux1_x86_64.whl (46 kB)\n",
            "Collecting haversine>=0.4.1\n",
            "  Using cached haversine-2.5.1-py2.py3-none-any.whl (6.1 kB)\n",
            "Collecting categorical-distance>=1.9\n",
            "  Using cached categorical_distance-1.9-py3-none-any.whl (3.3 kB)\n",
            "Collecting zope.index\n",
            "  Using cached zope.index-5.1.0-cp37-cp37m-manylinux_2_5_x86_64.manylinux1_x86_64.manylinux_2_12_x86_64.manylinux2010_x86_64.whl (103 kB)\n",
            "Collecting dedupe-variable-datetime\n",
            "  Using cached dedupe_variable_datetime-0.1.5-py3-none-any.whl (4.8 kB)\n",
            "Collecting numpy>=1.13\n",
            "  Downloading numpy-1.21.4-cp37-cp37m-manylinux_2_12_x86_64.manylinux2010_x86_64.whl (15.7 MB)\n",
            "\u001b[K     |████████████████████████████████| 15.7 MB 8.3 MB/s \n",
            "\u001b[?25hCollecting dedupe-hcluster\n",
            "  Using cached dedupe_hcluster-0.3.8-cp37-cp37m-manylinux1_x86_64.whl (531 kB)\n",
            "Collecting zope.interface>=5.0.0\n",
            "  Using cached zope.interface-5.4.0-cp37-cp37m-manylinux2010_x86_64.whl (251 kB)\n",
            "Collecting persistent>=4.1.0\n",
            "  Using cached persistent-4.7.0-cp37-cp37m-manylinux2010_x86_64.whl (253 kB)\n",
            "Collecting pyhacrf-datamade>=0.2.0\n",
            "  Using cached pyhacrf_datamade-0.2.5-cp37-cp37m-manylinux1_x86_64.whl (787 kB)\n",
            "Collecting cffi\n",
            "  Downloading cffi-1.15.0-cp37-cp37m-manylinux_2_12_x86_64.manylinux2010_x86_64.whl (427 kB)\n",
            "\u001b[K     |████████████████████████████████| 427 kB 48.9 MB/s \n",
            "\u001b[?25hCollecting PyLBFGS>=0.1.3\n",
            "  Using cached PyLBFGS-0.2.0.13-cp37-cp37m-manylinux1_x86_64.whl (203 kB)\n",
            "Collecting future>=0.14\n",
            "  Downloading future-0.18.2.tar.gz (829 kB)\n",
            "\u001b[K     |████████████████████████████████| 829 kB 41.7 MB/s \n",
            "\u001b[?25hCollecting setuptools\n",
            "  Downloading setuptools-59.4.0-py3-none-any.whl (952 kB)\n",
            "\u001b[K     |████████████████████████████████| 952 kB 42.7 MB/s \n",
            "\u001b[?25hCollecting pycparser\n",
            "  Downloading pycparser-2.21-py2.py3-none-any.whl (118 kB)\n",
            "\u001b[K     |████████████████████████████████| 118 kB 57.5 MB/s \n",
            "\u001b[?25hCollecting datetime-distance\n",
            "  Using cached datetime_distance-0.1.3-py3-none-any.whl (4.1 kB)\n",
            "Collecting python-dateutil>=2.6.0\n",
            "  Downloading python_dateutil-2.8.2-py2.py3-none-any.whl (247 kB)\n",
            "\u001b[K     |████████████████████████████████| 247 kB 41.2 MB/s \n",
            "\u001b[?25hCollecting six>=1.5\n",
            "  Downloading six-1.16.0-py2.py3-none-any.whl (11 kB)\n",
            "Building wheels for collected packages: future\n",
            "  Building wheel for future (setup.py) ... \u001b[?25l\u001b[?25hdone\n",
            "  Created wheel for future: filename=future-0.18.2-py3-none-any.whl size=491070 sha256=bc4c2d6eb48ee456e54a59383cb8fffbd7e965c02099248ccdb6f5793937126b\n",
            "  Stored in directory: /root/.cache/pip/wheels/56/b0/fe/4410d17b32f1f0c3cf54cdfb2bc04d7b4b8f4ae377e2229ba0\n",
            "Successfully built future\n",
            "Installing collected packages: setuptools, pycparser, zope.interface, six, numpy, cffi, python-dateutil, PyLBFGS, persistent, future, pyhacrf-datamade, datetime-distance, BTrees, zope.index, typing-extensions, simplecosine, rlr, Levenshtein-search, highered, haversine, fastcluster, doublemetaphone, dedupe-variable-datetime, dedupe-hcluster, categorical-distance, affinegap, dedupe\n",
            "\u001b[31mERROR: pip's dependency resolver does not currently take into account all the packages that are installed. This behaviour is the source of the following dependency conflicts.\n",
            "yellowbrick 1.3.post1 requires numpy<1.20,>=1.16.0, but you have numpy 1.21.4 which is incompatible.\n",
            "google-colab 1.0.0 requires six~=1.15.0, but you have six 1.16.0 which is incompatible.\n",
            "datascience 0.10.6 requires folium==0.2.1, but you have folium 0.8.3 which is incompatible.\n",
            "arviz 0.11.4 requires typing-extensions<4,>=3.7.4.3, but you have typing-extensions 4.0.1 which is incompatible.\n",
            "albumentations 0.1.12 requires imgaug<0.2.7,>=0.2.5, but you have imgaug 0.2.9 which is incompatible.\u001b[0m\n",
            "Successfully installed BTrees-4.9.2 Levenshtein-search-1.4.5 PyLBFGS-0.2.0.13 affinegap-1.11 categorical-distance-1.9 cffi-1.15.0 datetime-distance-0.1.3 dedupe-2.0.8 dedupe-hcluster-0.3.8 dedupe-variable-datetime-0.1.5 doublemetaphone-0.1 fastcluster-1.2.4 future-0.18.2 haversine-2.5.1 highered-0.2.1 numpy-1.21.4 persistent-4.7.0 pycparser-2.21 pyhacrf-datamade-0.2.5 python-dateutil-2.8.2 rlr-2.4.5 setuptools-59.4.0 simplecosine-1.2 six-1.16.0 typing-extensions-4.0.1 zope.index-5.1.0 zope.interface-5.4.0\n"
          ]
        },
        {
          "output_type": "display_data",
          "data": {
            "application/vnd.colab-display-data+json": {
              "pip_warning": {
                "packages": [
                  "BTrees",
                  "Levenshtein_search",
                  "_cffi_backend",
                  "cffi",
                  "dateutil",
                  "doublemetaphone",
                  "lbfgs",
                  "numpy",
                  "persistent",
                  "pkg_resources",
                  "rlr",
                  "six",
                  "zope"
                ]
              }
            }
          },
          "metadata": {}
        }
      ]
    },
    {
      "cell_type": "code",
      "metadata": {
        "id": "uGDR6z0UuHbL"
      },
      "source": [
        "import datetime\n",
        "import itertools\n",
        "import os\n",
        "import pathlib\n",
        "import re\n",
        "from typing import Any, Dict, Optional\n",
        "\n",
        "import dedupe\n",
        "import pandas as pd\n",
        "\n",
        "import linking_tutorial_functions as tutorial"
      ],
      "execution_count": 1,
      "outputs": []
    },
    {
      "cell_type": "markdown",
      "metadata": {
        "id": "EoWwUyqUuHbN"
      },
      "source": [
        "## Define Working Filepaths"
      ]
    },
    {
      "cell_type": "markdown",
      "metadata": {
        "id": "gJxoRK63uHbO"
      },
      "source": [
        "For convenience, we'll define a `pathlib.Path` to reference our current working directory."
      ]
    },
    {
      "cell_type": "code",
      "metadata": {
        "id": "IVwW2m9AuHbR",
        "colab": {
          "base_uri": "https://localhost:8080/"
        },
        "outputId": "afcb9cce-0077-43c7-cda8-c53fd441b6f1"
      },
      "source": [
        "WORKING_DIR = pathlib.Path(os.path.abspath(''))\n",
        "WORKING_DIR"
      ],
      "execution_count": 2,
      "outputs": [
        {
          "output_type": "execute_result",
          "data": {
            "text/plain": [
              "PosixPath('/content')"
            ]
          },
          "metadata": {},
          "execution_count": 2
        }
      ]
    },
    {
      "cell_type": "markdown",
      "metadata": {
        "id": "RMHBg8PcuHbS"
      },
      "source": [
        "## Load Training Dataset and Ground Truth Labels"
      ]
    },
    {
      "cell_type": "code",
      "metadata": {
        "id": "ar9b3O7vuHbU"
      },
      "source": [
        "df_A, df_B, df_ground_truth = tutorial.load_febrl_training_data(COLAB)"
      ],
      "execution_count": 5,
      "outputs": []
    },
    {
      "cell_type": "markdown",
      "metadata": {
        "id": "O_iMLwbmuHbV"
      },
      "source": [
        "Let's take a quick look at our training dataset to refresh on the columns, formats, and data."
      ]
    },
    {
      "cell_type": "code",
      "metadata": {
        "id": "a08qnzTRuHbW",
        "colab": {
          "base_uri": "https://localhost:8080/",
          "height": 324
        },
        "outputId": "610d7c24-e4d2-458c-8063-dbd92f126e12"
      },
      "source": [
        "df_A.head()"
      ],
      "execution_count": 6,
      "outputs": [
        {
          "output_type": "execute_result",
          "data": {
            "text/html": [
              "<div>\n",
              "<style scoped>\n",
              "    .dataframe tbody tr th:only-of-type {\n",
              "        vertical-align: middle;\n",
              "    }\n",
              "\n",
              "    .dataframe tbody tr th {\n",
              "        vertical-align: top;\n",
              "    }\n",
              "\n",
              "    .dataframe thead th {\n",
              "        text-align: right;\n",
              "    }\n",
              "</style>\n",
              "<table border=\"1\" class=\"dataframe\">\n",
              "  <thead>\n",
              "    <tr style=\"text-align: right;\">\n",
              "      <th></th>\n",
              "      <th>first_name</th>\n",
              "      <th>surname</th>\n",
              "      <th>street_number</th>\n",
              "      <th>address_1</th>\n",
              "      <th>address_2</th>\n",
              "      <th>suburb</th>\n",
              "      <th>postcode</th>\n",
              "      <th>state</th>\n",
              "      <th>date_of_birth</th>\n",
              "      <th>age</th>\n",
              "      <th>phone_number</th>\n",
              "      <th>soc_sec_id</th>\n",
              "    </tr>\n",
              "    <tr>\n",
              "      <th>person_id_A</th>\n",
              "      <th></th>\n",
              "      <th></th>\n",
              "      <th></th>\n",
              "      <th></th>\n",
              "      <th></th>\n",
              "      <th></th>\n",
              "      <th></th>\n",
              "      <th></th>\n",
              "      <th></th>\n",
              "      <th></th>\n",
              "      <th></th>\n",
              "      <th></th>\n",
              "    </tr>\n",
              "  </thead>\n",
              "  <tbody>\n",
              "    <tr>\n",
              "      <th>fbc4143d-15f9-4f27-b5f0-dedbadce6616</th>\n",
              "      <td>matilda</td>\n",
              "      <td>struck</td>\n",
              "      <td>8</td>\n",
              "      <td>ballard place</td>\n",
              "      <td></td>\n",
              "      <td>west perth</td>\n",
              "      <td>2470</td>\n",
              "      <td>qld</td>\n",
              "      <td>19611002</td>\n",
              "      <td>32</td>\n",
              "      <td>03 05903135</td>\n",
              "      <td>8276847</td>\n",
              "    </tr>\n",
              "    <tr>\n",
              "      <th>48a56cad-7ba6-45e1-97cd-517ba65bdab5</th>\n",
              "      <td>lachlan</td>\n",
              "      <td>eglinton</td>\n",
              "      <td>36</td>\n",
              "      <td>kambalda crescent</td>\n",
              "      <td>villa 427</td>\n",
              "      <td>auburn</td>\n",
              "      <td>5109</td>\n",
              "      <td></td>\n",
              "      <td>19260108</td>\n",
              "      <td>27</td>\n",
              "      <td></td>\n",
              "      <td>9937958</td>\n",
              "    </tr>\n",
              "    <tr>\n",
              "      <th>b1792d21-e4be-4b86-8dea-454ffa5194c5</th>\n",
              "      <td>mikayla</td>\n",
              "      <td>asher</td>\n",
              "      <td>588</td>\n",
              "      <td>britten-jones drive</td>\n",
              "      <td></td>\n",
              "      <td>miami</td>\n",
              "      <td>4218</td>\n",
              "      <td>nsw</td>\n",
              "      <td>19251102</td>\n",
              "      <td>32</td>\n",
              "      <td>03 33770501</td>\n",
              "      <td>7017310</td>\n",
              "    </tr>\n",
              "    <tr>\n",
              "      <th>96653d73-bebc-4459-94f3-c3f0a8c514d4</th>\n",
              "      <td>grace</td>\n",
              "      <td>bristow</td>\n",
              "      <td>7</td>\n",
              "      <td></td>\n",
              "      <td>wandella park snowy</td>\n",
              "      <td>cardiff</td>\n",
              "      <td>6163</td>\n",
              "      <td>nsw</td>\n",
              "      <td>19400120</td>\n",
              "      <td></td>\n",
              "      <td>07 37864073</td>\n",
              "      <td>3535974</td>\n",
              "    </tr>\n",
              "    <tr>\n",
              "      <th>41f038b8-77c0-45a5-9e1f-e62b8637ffd1</th>\n",
              "      <td>wilson</td>\n",
              "      <td>bishop</td>\n",
              "      <td>11</td>\n",
              "      <td>chisholm street</td>\n",
              "      <td></td>\n",
              "      <td>bronte</td>\n",
              "      <td>2490</td>\n",
              "      <td>nsw</td>\n",
              "      <td>19210305</td>\n",
              "      <td>27</td>\n",
              "      <td>04 15209769</td>\n",
              "      <td>5573522</td>\n",
              "    </tr>\n",
              "  </tbody>\n",
              "</table>\n",
              "</div>"
            ],
            "text/plain": [
              "                                     first_name  ... soc_sec_id\n",
              "person_id_A                                      ...           \n",
              "fbc4143d-15f9-4f27-b5f0-dedbadce6616    matilda  ...    8276847\n",
              "48a56cad-7ba6-45e1-97cd-517ba65bdab5    lachlan  ...    9937958\n",
              "b1792d21-e4be-4b86-8dea-454ffa5194c5    mikayla  ...    7017310\n",
              "96653d73-bebc-4459-94f3-c3f0a8c514d4      grace  ...    3535974\n",
              "41f038b8-77c0-45a5-9e1f-e62b8637ffd1     wilson  ...    5573522\n",
              "\n",
              "[5 rows x 12 columns]"
            ]
          },
          "metadata": {},
          "execution_count": 6
        }
      ]
    },
    {
      "cell_type": "markdown",
      "metadata": {
        "id": "GNAiFCTJuHbX"
      },
      "source": [
        "## Data Augmentation"
      ]
    },
    {
      "cell_type": "markdown",
      "metadata": {
        "id": "q0GlcmyOuHbY"
      },
      "source": [
        "We'll do minimal data augmentation before feeding our training data to `dedupe`; we just want to format the date of birth data as `mm/dd/yy`, and ensure all columns are in string format and stripped of trailing/leading whitespace. Additionally, `dedupe` requires input data to be in dictionaries, using the record id as the key and the record metadata as the value. So, we'll convert our dataframes to this format."
      ]
    },
    {
      "cell_type": "code",
      "metadata": {
        "id": "sf6BJSnTuHbZ"
      },
      "source": [
        "def format_dob(dob: str) -> Optional[str]:\n",
        "    \"\"\" Transform date of birth format from YYYYMMDD to mm/dd/yy.\n",
        "        If DOB cannot be transformed, return None.\n",
        "    \"\"\"\n",
        "    try:\n",
        "        if re.match(r\"\\d{8}\", dob):\n",
        "            return (datetime.datetime.strptime(dob, \"%Y%m%d\")).strftime(\"%m/%d/%y\")\n",
        "    except:\n",
        "        pass\n",
        "\n",
        "    return None\n",
        "\n",
        "def strip_and_null(x: Any) -> Optional[str]:\n",
        "    \"\"\" Stringify incoming variable, remove trailing/leading whitespace\n",
        "        and return resulting string. Return None if resulting string is empty.\n",
        "    \"\"\"\n",
        "    x = str(x).strip()\n",
        "    \n",
        "    if x == \"\":\n",
        "        return None\n",
        "    else:\n",
        "        return x\n",
        "    \n",
        "def convert_df_to_dict(df: pd.DataFrame) -> Dict[str, Dict]:\n",
        "    \"\"\" Convert pandas DataFrame to dict keyed by record id.\n",
        "        Convert all fields to strings or Nones to satisfy dedupe.\n",
        "        Transform date format of date_of_birth field.\n",
        "    \"\"\"    \n",
        "\n",
        "    for col in df.columns:\n",
        "        df[col] = df[col].apply(lambda x: strip_and_null(x))\n",
        "\n",
        "    df[\"date_of_birth\"] = df[\"date_of_birth\"].apply(lambda x: format_dob(x))    \n",
        "\n",
        "    return df.to_dict(\"index\")"
      ],
      "execution_count": 7,
      "outputs": []
    },
    {
      "cell_type": "code",
      "metadata": {
        "id": "4e62XF4ruHbb"
      },
      "source": [
        "records_A = convert_df_to_dict(df_A)\n",
        "records_B = convert_df_to_dict(df_B)"
      ],
      "execution_count": 8,
      "outputs": []
    },
    {
      "cell_type": "markdown",
      "metadata": {
        "id": "37d2PsUauHbc"
      },
      "source": [
        "We can examine a small sample of the resulting transformed records:"
      ]
    },
    {
      "cell_type": "code",
      "metadata": {
        "id": "Vm8ZUut-uHbc",
        "colab": {
          "base_uri": "https://localhost:8080/"
        },
        "outputId": "d2bcb07e-47ab-48bb-bb68-24b5c9d8d343"
      },
      "source": [
        "[records_A[k] for k in list(records_A.keys())[0:2]]"
      ],
      "execution_count": 9,
      "outputs": [
        {
          "output_type": "execute_result",
          "data": {
            "text/plain": [
              "[{'address_1': 'ballard place',\n",
              "  'address_2': None,\n",
              "  'age': '32',\n",
              "  'date_of_birth': '10/02/61',\n",
              "  'first_name': 'matilda',\n",
              "  'phone_number': '03 05903135',\n",
              "  'postcode': '2470',\n",
              "  'soc_sec_id': '8276847',\n",
              "  'state': 'qld',\n",
              "  'street_number': '8',\n",
              "  'suburb': 'west perth',\n",
              "  'surname': 'struck'},\n",
              " {'address_1': 'kambalda crescent',\n",
              "  'address_2': 'villa 427',\n",
              "  'age': '27',\n",
              "  'date_of_birth': '01/08/26',\n",
              "  'first_name': 'lachlan',\n",
              "  'phone_number': None,\n",
              "  'postcode': '5109',\n",
              "  'soc_sec_id': '9937958',\n",
              "  'state': None,\n",
              "  'street_number': '36',\n",
              "  'suburb': 'auburn',\n",
              "  'surname': 'eglinton'}]"
            ]
          },
          "metadata": {},
          "execution_count": 9
        }
      ]
    },
    {
      "cell_type": "markdown",
      "metadata": {
        "id": "IB8EYod-uHbd"
      },
      "source": [
        "## Prepare Training"
      ]
    },
    {
      "cell_type": "markdown",
      "metadata": {
        "id": "vy21lvfhuHbe"
      },
      "source": [
        "When we linked our data via SimSum and supervised learning, we defined our blockers and comparators manually with `recordlinkage`. The `dedupe` library takes an active learning approach to blocking and classification and will use our feedback gathered during the labeling session to learn blocking rules and train a classifier. \n",
        "\n",
        "To prepare our `dedupe.RecordLink` object for training, first we'll define the fields that we think `dedupe` should pay attention to when matching records - these definitions will serve as the comparators. The `field` contains the name of the attribute to use for comparison, and the `type` defines the comparison type."
      ]
    },
    {
      "cell_type": "code",
      "metadata": {
        "id": "TCqJ1U60uHbe",
        "colab": {
          "base_uri": "https://localhost:8080/"
        },
        "outputId": "c06b2102-3685-486e-9339-7bf4fb1da9a4"
      },
      "source": [
        "%%time\n",
        "\n",
        "fields = [\n",
        "    { \"field\" : \"first_name\", \"type\" : \"Name\" },\n",
        "    { \"field\" : \"surname\", \"type\" : \"Name\" },\n",
        "    { \"field\" : \"address_1\", \"type\" : \"ShortString\" },\n",
        "    { \"field\" : \"address_2\", \"type\" : \"ShortString\" },\n",
        "    { \"field\" : \"suburb\", \"type\" : \"ShortString\" },\n",
        "    { \"field\" : \"postcode\", \"type\" : \"Exact\" },\n",
        "    { \"field\" : \"state\", \"type\" : \"Exact\" },\n",
        "    { \"field\" : \"date_of_birth\", \"type\" : \"DateTime\" },\n",
        "    { \"field\" : \"soc_sec_id\", \"type\" : \"Exact\" },\n",
        "]\n",
        "\n",
        "linker = dedupe.RecordLink(fields)\n",
        "linker.prepare_training(records_A, records_B)"
      ],
      "execution_count": 10,
      "outputs": [
        {
          "output_type": "stream",
          "name": "stderr",
          "text": [
            "INFO:dedupe.canopy_index:Removing stop word re\n",
            "INFO:dedupe.training:Final predicate set:\n",
            "INFO:dedupe.training:SimplePredicate: (wholeFieldPredicate, soc_sec_id)\n"
          ]
        },
        {
          "output_type": "stream",
          "name": "stdout",
          "text": [
            "CPU times: user 54 s, sys: 1.18 s, total: 55.2 s\n",
            "Wall time: 54.5 s\n"
          ]
        }
      ]
    },
    {
      "cell_type": "markdown",
      "metadata": {
        "id": "IY5_-ZyluHbf"
      },
      "source": [
        "## Active Learning Labeling Session!"
      ]
    },
    {
      "cell_type": "markdown",
      "metadata": {
        "id": "ZIqGu63ouHbf"
      },
      "source": [
        "At this point, we're ready to provide feedback to `dedupe` via an active learning labeling session. For this, `dedupe` supplies a convenience method to iterate through pairs it is uncertain about. As you provide feedback for each pair, dedupe learns blocking rules and recalculates its linking model weights.\n",
        "\n",
        "You can use `y` (yes, match), `n` (no, not match), and `u` (unsure) to provide feedback on candidate links. When you're ready to exit the labeling session, use `f`."
      ]
    },
    {
      "cell_type": "code",
      "metadata": {
        "id": "-1KGnX6VuHbg",
        "colab": {
          "base_uri": "https://localhost:8080/"
        },
        "outputId": "4c2b39ea-1d34-465f-907e-fbdfec95e1af"
      },
      "source": [
        "dedupe.console_label(linker)"
      ],
      "execution_count": 11,
      "outputs": [
        {
          "output_type": "stream",
          "name": "stderr",
          "text": [
            "first_name : timothy\n",
            "surname : guymer\n",
            "address_1 : None\n",
            "address_2 : None\n",
            "suburb : forrest\n",
            "postcode : 2217\n",
            "state : nsw\n",
            "date_of_birth : 02/11/33\n",
            "soc_sec_id : 3547663\n",
            "\n",
            "first_name : nika\n",
            "surname : lillwn\n",
            "address_1 : mcalpine place\n",
            "address_2 : None\n",
            "suburb : forrest\n",
            "postcode : 2380\n",
            "state : nsw\n",
            "date_of_birth : None\n",
            "soc_sec_id : 6508513\n",
            "\n",
            "0/10 positive, 0/10 negative\n",
            "Do these records refer to the same thing?\n",
            "(y)es / (n)o / (u)nsure / (f)inished\n"
          ]
        },
        {
          "name": "stdout",
          "output_type": "stream",
          "text": [
            "y\n"
          ]
        },
        {
          "output_type": "stream",
          "name": "stderr",
          "text": [
            "first_name : logan\n",
            "surname : mac onochie\n",
            "address_1 : mackellar crescent\n",
            "address_2 : None\n",
            "suburb : oatlands\n",
            "postcode : 4207\n",
            "state : vic\n",
            "date_of_birth : 08/13/84\n",
            "soc_sec_id : 4647965\n",
            "\n",
            "first_name : logt\n",
            "surname : mac onochie\n",
            "address_1 : None\n",
            "address_2 : None\n",
            "suburb : oatlands\n",
            "postcode : 4207\n",
            "state : vic\n",
            "date_of_birth : None\n",
            "soc_sec_id : 4648775\n",
            "\n",
            "1/10 positive, 0/10 negative\n",
            "Do these records refer to the same thing?\n",
            "(y)es / (n)o / (u)nsure / (f)inished / (p)revious\n"
          ]
        },
        {
          "name": "stdout",
          "output_type": "stream",
          "text": [
            "y\n"
          ]
        },
        {
          "output_type": "stream",
          "name": "stderr",
          "text": [
            "INFO:dedupe.training:Final predicate set:\n",
            "INFO:dedupe.training:SimplePredicate: (wholeFieldPredicate, suburb)\n",
            "first_name : isabella\n",
            "surname : mewett\n",
            "address_1 : dettmann close\n",
            "address_2 : riley house\n",
            "suburb : koroit\n",
            "postcode : 6163\n",
            "state : qld\n",
            "date_of_birth : 06/04/36\n",
            "soc_sec_id : 3868039\n",
            "\n",
            "first_name : soden\n",
            "surname : joshua\n",
            "address_1 : None\n",
            "address_2 : None\n",
            "suburb : newington\n",
            "postcode : 6005\n",
            "state : qld\n",
            "date_of_birth : 05/15/25\n",
            "soc_sec_id : 8231355\n",
            "\n",
            "2/10 positive, 0/10 negative\n",
            "Do these records refer to the same thing?\n",
            "(y)es / (n)o / (u)nsure / (f)inished / (p)revious\n"
          ]
        },
        {
          "name": "stdout",
          "output_type": "stream",
          "text": [
            "y\n"
          ]
        },
        {
          "output_type": "stream",
          "name": "stderr",
          "text": [
            "first_name : david\n",
            "surname : sznajder\n",
            "address_1 : None\n",
            "address_2 : bowtells caravn park\n",
            "suburb : eaton\n",
            "postcode : 2298\n",
            "state : vic\n",
            "date_of_birth : 09/15/78\n",
            "soc_sec_id : 8971940\n",
            "\n",
            "first_name : luk\n",
            "surname : neville\n",
            "address_1 : holman street\n",
            "address_2 : sec 443 bellamour\n",
            "suburb : raymond terrace\n",
            "postcode : 3174\n",
            "state : vic\n",
            "date_of_birth : 11/11/90\n",
            "soc_sec_id : 1631768\n",
            "\n",
            "3/10 positive, 0/10 negative\n",
            "Do these records refer to the same thing?\n",
            "(y)es / (n)o / (u)nsure / (f)inished / (p)revious\n"
          ]
        },
        {
          "name": "stdout",
          "output_type": "stream",
          "text": [
            "n\n"
          ]
        },
        {
          "output_type": "stream",
          "name": "stderr",
          "text": [
            "INFO:dedupe.training:Final predicate set:\n",
            "INFO:dedupe.training:SimplePredicate: (wholeFieldPredicate, soc_sec_id)\n",
            "INFO:dedupe.training:PartialIndexLevenshteinSearchPredicate: (1, surname, Surname)\n",
            "INFO:dedupe.training:SimplePredicate: (commonTwoTokens, surname)\n",
            "first_name : amy\n",
            "surname : maliyasena\n",
            "address_1 : cowper street\n",
            "address_2 : None\n",
            "suburb : surrey hills\n",
            "postcode : 4120\n",
            "state : nsw\n",
            "date_of_birth : 04/06/62\n",
            "soc_sec_id : 2730947\n",
            "\n",
            "first_name : lachlan\n",
            "surname : leatham\n",
            "address_1 : None\n",
            "address_2 : None\n",
            "suburb : clareville\n",
            "postcode : 2154\n",
            "state : sv\n",
            "date_of_birth : 06/29/72\n",
            "soc_sec_id : 1612297\n",
            "\n",
            "3/10 positive, 1/10 negative\n",
            "Do these records refer to the same thing?\n",
            "(y)es / (n)o / (u)nsure / (f)inished / (p)revious\n"
          ]
        },
        {
          "name": "stdout",
          "output_type": "stream",
          "text": [
            "n\n"
          ]
        },
        {
          "output_type": "stream",
          "name": "stderr",
          "text": [
            "first_name : daniel\n",
            "surname : van akker\n",
            "address_1 : None\n",
            "address_2 : None\n",
            "suburb : biggera waters\n",
            "postcode : 4032\n",
            "state : wa\n",
            "date_of_birth : 01/17/08\n",
            "soc_sec_id : 8117255\n",
            "\n",
            "first_name : daniel\n",
            "surname : bassnari\n",
            "address_1 : hilton close\n",
            "address_2 : rocklea\n",
            "suburb : corrimal east\n",
            "postcode : 4306\n",
            "state : qld\n",
            "date_of_birth : None\n",
            "soc_sec_id : 9096559\n",
            "\n",
            "3/10 positive, 2/10 negative\n",
            "Do these records refer to the same thing?\n",
            "(y)es / (n)o / (u)nsure / (f)inished / (p)revious\n"
          ]
        },
        {
          "name": "stdout",
          "output_type": "stream",
          "text": [
            "y\n"
          ]
        },
        {
          "output_type": "stream",
          "name": "stderr",
          "text": [
            "first_name : luke\n",
            "surname : jolly\n",
            "address_1 : guthrie street\n",
            "address_2 : None\n",
            "suburb : greenacre\n",
            "postcode : 2525\n",
            "state : qld\n",
            "date_of_birth : None\n",
            "soc_sec_id : 1508620\n",
            "\n",
            "first_name : chelhsea\n",
            "surname : nan\n",
            "address_1 : None\n",
            "address_2 : None\n",
            "suburb : mount helen\n",
            "postcode : None\n",
            "state : qld\n",
            "date_of_birth : 11/25/79\n",
            "soc_sec_id : 6948126\n",
            "\n",
            "4/10 positive, 2/10 negative\n",
            "Do these records refer to the same thing?\n",
            "(y)es / (n)o / (u)nsure / (f)inished / (p)revious\n"
          ]
        },
        {
          "name": "stdout",
          "output_type": "stream",
          "text": [
            "n\n"
          ]
        },
        {
          "output_type": "stream",
          "name": "stderr",
          "text": [
            "INFO:dedupe.training:Final predicate set:\n",
            "INFO:dedupe.training:SimplePredicate: (wholeFieldPredicate, soc_sec_id)\n",
            "INFO:dedupe.training:PartialIndexLevenshteinSearchPredicate: (1, surname, Surname)\n",
            "INFO:dedupe.training:SimplePredicate: (commonTwoTokens, surname)\n",
            "INFO:dedupe.training:PartialPredicate: (commonSixGram, first_name, Surname)\n",
            "first_name : kaitlin\n",
            "surname : snelling\n",
            "address_1 : bacchus circuit\n",
            "address_2 : None\n",
            "suburb : redhead\n",
            "postcode : 2089\n",
            "state : nsw\n",
            "date_of_birth : 08/01/52\n",
            "soc_sec_id : 6540838\n",
            "\n",
            "first_name : kadin\n",
            "surname : clarje\n",
            "address_1 : None\n",
            "address_2 : blueberry hill\n",
            "suburb : alubzry\n",
            "postcode : 3838\n",
            "state : sa\n",
            "date_of_birth : None\n",
            "soc_sec_id : 5708629\n",
            "\n",
            "4/10 positive, 3/10 negative\n",
            "Do these records refer to the same thing?\n",
            "(y)es / (n)o / (u)nsure / (f)inished / (p)revious\n"
          ]
        },
        {
          "name": "stdout",
          "output_type": "stream",
          "text": [
            "n\n"
          ]
        },
        {
          "output_type": "stream",
          "name": "stderr",
          "text": [
            "first_name : joshua\n",
            "surname : ryan\n",
            "address_1 : davenport street\n",
            "address_2 : None\n",
            "suburb : north curl curl\n",
            "postcode : 4020\n",
            "state : vic\n",
            "date_of_birth : 10/17/35\n",
            "soc_sec_id : 1997553\n",
            "\n",
            "first_name : sian\n",
            "surname : pai ne\n",
            "address_1 : britten-jones drive\n",
            "address_2 : None\n",
            "suburb : north ward\n",
            "postcode : 6230\n",
            "state : None\n",
            "date_of_birth : None\n",
            "soc_sec_id : 5676142\n",
            "\n",
            "4/10 positive, 4/10 negative\n",
            "Do these records refer to the same thing?\n",
            "(y)es / (n)o / (u)nsure / (f)inished / (p)revious\n"
          ]
        },
        {
          "name": "stdout",
          "output_type": "stream",
          "text": [
            "y\n"
          ]
        },
        {
          "output_type": "stream",
          "name": "stderr",
          "text": [
            "first_name : niamh\n",
            "surname : tarrillo villalobos\n",
            "address_1 : palmer street\n",
            "address_2 : None\n",
            "suburb : port macquarie\n",
            "postcode : 3072\n",
            "state : nsw\n",
            "date_of_birth : 03/21/91\n",
            "soc_sec_id : 3738554\n",
            "\n",
            "first_name : niamh\n",
            "surname : nan\n",
            "address_1 : phillip avenue\n",
            "address_2 : None\n",
            "suburb : None\n",
            "postcode : 3939\n",
            "state : vic\n",
            "date_of_birth : None\n",
            "soc_sec_id : 8913923\n",
            "\n",
            "5/10 positive, 4/10 negative\n",
            "Do these records refer to the same thing?\n",
            "(y)es / (n)o / (u)nsure / (f)inished / (p)revious\n"
          ]
        },
        {
          "name": "stdout",
          "output_type": "stream",
          "text": [
            "n\n"
          ]
        },
        {
          "output_type": "stream",
          "name": "stderr",
          "text": [
            "INFO:dedupe.training:Final predicate set:\n",
            "INFO:dedupe.training:SimplePredicate: (firstTokenPredicate, suburb)\n",
            "INFO:dedupe.training:PartialPredicate: (commonSixGram, first_name, Surname)\n",
            "INFO:dedupe.training:PartialIndexLevenshteinSearchPredicate: (1, surname, Surname)\n",
            "first_name : isabella\n",
            "surname : di manno\n",
            "address_1 : kennedy street\n",
            "address_2 : None\n",
            "suburb : cowan\n",
            "postcode : 4055\n",
            "state : nsw\n",
            "date_of_birth : 02/13/53\n",
            "soc_sec_id : 2167459\n",
            "\n",
            "first_name : nasyah\n",
            "surname : nan\n",
            "address_1 : buntine ercent\n",
            "address_2 : None\n",
            "suburb : alice sprngs\n",
            "postcode : 2261\n",
            "state : vic\n",
            "date_of_birth : None\n",
            "soc_sec_id : 5607474\n",
            "\n",
            "5/10 positive, 5/10 negative\n",
            "Do these records refer to the same thing?\n",
            "(y)es / (n)o / (u)nsure / (f)inished / (p)revious\n"
          ]
        },
        {
          "name": "stdout",
          "output_type": "stream",
          "text": [
            "y\n"
          ]
        },
        {
          "output_type": "stream",
          "name": "stderr",
          "text": [
            "first_name : nan\n",
            "surname : brock\n",
            "address_1 : wheatley street\n",
            "address_2 : None\n",
            "suburb : yorkeys knob\n",
            "postcode : 3550\n",
            "state : vic\n",
            "date_of_birth : 08/18/72\n",
            "soc_sec_id : 3402102\n",
            "\n",
            "first_name : nan\n",
            "surname : brock\n",
            "address_1 : None\n",
            "address_2 : None\n",
            "suburb : yorkeyw knob\n",
            "postcode : 3550\n",
            "state : vic\n",
            "date_of_birth : None\n",
            "soc_sec_id : 3402102\n",
            "\n",
            "6/10 positive, 5/10 negative\n",
            "Do these records refer to the same thing?\n",
            "(y)es / (n)o / (u)nsure / (f)inished / (p)revious\n"
          ]
        },
        {
          "name": "stdout",
          "output_type": "stream",
          "text": [
            "n\n"
          ]
        },
        {
          "output_type": "stream",
          "name": "stderr",
          "text": [
            "INFO:dedupe.training:Final predicate set:\n",
            "INFO:dedupe.training:PartialIndexLevenshteinSearchPredicate: (3, surname, CorporationName)\n",
            "first_name : joshua\n",
            "surname : beelitz\n",
            "address_1 : None\n",
            "address_2 : None\n",
            "suburb : margaret river\n",
            "postcode : 2204\n",
            "state : vic\n",
            "date_of_birth : 02/10/77\n",
            "soc_sec_id : 2754936\n",
            "\n",
            "first_name : joshua\n",
            "surname : beelz\n",
            "address_1 : None\n",
            "address_2 : None\n",
            "suburb : margaret river\n",
            "postcode : 2204\n",
            "state : vic\n",
            "date_of_birth : 02/10/77\n",
            "soc_sec_id : 2754936\n",
            "\n",
            "6/10 positive, 6/10 negative\n",
            "Do these records refer to the same thing?\n",
            "(y)es / (n)o / (u)nsure / (f)inished / (p)revious\n"
          ]
        },
        {
          "name": "stdout",
          "output_type": "stream",
          "text": [
            "y\n"
          ]
        },
        {
          "output_type": "stream",
          "name": "stderr",
          "text": [
            "first_name : toby\n",
            "surname : dent\n",
            "address_1 : studley street\n",
            "address_2 : sunnydale cottage\n",
            "suburb : bowral\n",
            "postcode : 2450\n",
            "state : wa\n",
            "date_of_birth : 04/02/81\n",
            "soc_sec_id : 9402107\n",
            "\n",
            "first_name : toby\n",
            "surname : de nd\n",
            "address_1 : None\n",
            "address_2 : None\n",
            "suburb : bowral\n",
            "postcode : 2450\n",
            "state : wa\n",
            "date_of_birth : 04/02/81\n",
            "soc_sec_id : 9402107\n",
            "\n",
            "7/10 positive, 6/10 negative\n",
            "Do these records refer to the same thing?\n",
            "(y)es / (n)o / (u)nsure / (f)inished / (p)revious\n"
          ]
        },
        {
          "name": "stdout",
          "output_type": "stream",
          "text": [
            "y\n"
          ]
        },
        {
          "output_type": "stream",
          "name": "stderr",
          "text": [
            "INFO:dedupe.training:Final predicate set:\n",
            "INFO:dedupe.training:PartialIndexLevenshteinSearchPredicate: (3, surname, CorporationName)\n",
            "INFO:dedupe.training:SimplePredicate: (dayPredicate, date_of_birth)\n",
            "first_name : matthew\n",
            "surname : white\n",
            "address_1 : None\n",
            "address_2 : mungo park\n",
            "suburb : hopetoun\n",
            "postcode : 6110\n",
            "state : vic\n",
            "date_of_birth : 09/26/33\n",
            "soc_sec_id : 7343175\n",
            "\n",
            "first_name : matthew\n",
            "surname : wighfe\n",
            "address_1 : None\n",
            "address_2 : mungo park\n",
            "suburb : hopetoun\n",
            "postcode : 6110\n",
            "state : vic\n",
            "date_of_birth : None\n",
            "soc_sec_id : 7343175\n",
            "\n",
            "8/10 positive, 6/10 negative\n",
            "Do these records refer to the same thing?\n",
            "(y)es / (n)o / (u)nsure / (f)inished / (p)revious\n"
          ]
        },
        {
          "name": "stdout",
          "output_type": "stream",
          "text": [
            "n\n"
          ]
        },
        {
          "output_type": "stream",
          "name": "stderr",
          "text": [
            "first_name : dylan\n",
            "surname : ciplys\n",
            "address_1 : dutton street\n",
            "address_2 : norma\n",
            "suburb : east maitland\n",
            "postcode : 5485\n",
            "state : wa\n",
            "date_of_birth : 11/28/02\n",
            "soc_sec_id : 5171268\n",
            "\n",
            "first_name : ciplns\n",
            "surname : dylan\n",
            "address_1 : dutton etreet\n",
            "address_2 : None\n",
            "suburb : east mailand\n",
            "postcode : 5485\n",
            "state : wa\n",
            "date_of_birth : 10/28/02\n",
            "soc_sec_id : 5171268\n",
            "\n",
            "8/10 positive, 7/10 negative\n",
            "Do these records refer to the same thing?\n",
            "(y)es / (n)o / (u)nsure / (f)inished / (p)revious\n"
          ]
        },
        {
          "name": "stdout",
          "output_type": "stream",
          "text": [
            "n\n"
          ]
        },
        {
          "output_type": "stream",
          "name": "stderr",
          "text": [
            "first_name : jack\n",
            "surname : kulshrestha\n",
            "address_1 : malara street\n",
            "address_2 : furmiston\n",
            "suburb : batlow\n",
            "postcode : 2594\n",
            "state : vic\n",
            "date_of_birth : 03/07/02\n",
            "soc_sec_id : 9862701\n",
            "\n",
            "first_name : jack\n",
            "surname : kulshreqtha\n",
            "address_1 : malara street\n",
            "address_2 : None\n",
            "suburb : batlow\n",
            "postcode : 2594\n",
            "state : vic\n",
            "date_of_birth : None\n",
            "soc_sec_id : 9862701\n",
            "\n",
            "8/10 positive, 8/10 negative\n",
            "Do these records refer to the same thing?\n",
            "(y)es / (n)o / (u)nsure / (f)inished / (p)revious\n"
          ]
        },
        {
          "name": "stdout",
          "output_type": "stream",
          "text": [
            "y\n"
          ]
        },
        {
          "output_type": "stream",
          "name": "stderr",
          "text": [
            "first_name : jack\n",
            "surname : bissett\n",
            "address_1 : conyers street\n",
            "address_2 : None\n",
            "suburb : goomalling\n",
            "postcode : 6112\n",
            "state : vic\n",
            "date_of_birth : 06/08/64\n",
            "soc_sec_id : 9409056\n",
            "\n",
            "first_name : jack\n",
            "surname : bisst\n",
            "address_1 : conyers street\n",
            "address_2 : None\n",
            "suburb : goomalling\n",
            "postcode : 6112\n",
            "state : vic\n",
            "date_of_birth : 07/08/65\n",
            "soc_sec_id : 9409056\n",
            "\n",
            "9/10 positive, 8/10 negative\n",
            "Do these records refer to the same thing?\n",
            "(y)es / (n)o / (u)nsure / (f)inished / (p)revious\n"
          ]
        },
        {
          "name": "stdout",
          "output_type": "stream",
          "text": [
            "y\n"
          ]
        },
        {
          "output_type": "stream",
          "name": "stderr",
          "text": [
            "INFO:dedupe.training:Final predicate set:\n",
            "INFO:dedupe.training:PartialIndexLevenshteinSearchPredicate: (3, surname, CorporationName)\n",
            "INFO:dedupe.training:SimplePredicate: (wholeFieldPredicate, soc_sec_id)\n",
            "first_name : bailey\n",
            "surname : au\n",
            "address_1 : barritt street\n",
            "address_2 : sunnyview\n",
            "suburb : kinross\n",
            "postcode : 4019\n",
            "state : nsw\n",
            "date_of_birth : 06/19/14\n",
            "soc_sec_id : 4952744\n",
            "\n",
            "first_name : baillet\n",
            "surname : huggins\n",
            "address_1 : barritt street\n",
            "address_2 : sunnyview\n",
            "suburb : kinross\n",
            "postcode : 4019\n",
            "state : nsw\n",
            "date_of_birth : None\n",
            "soc_sec_id : 4952744\n",
            "\n",
            "10/10 positive, 8/10 negative\n",
            "Do these records refer to the same thing?\n",
            "(y)es / (n)o / (u)nsure / (f)inished / (p)revious\n"
          ]
        },
        {
          "name": "stdout",
          "output_type": "stream",
          "text": [
            "n\n"
          ]
        },
        {
          "output_type": "stream",
          "name": "stderr",
          "text": [
            "first_name : ryley\n",
            "surname : oddy\n",
            "address_1 : mermaid street\n",
            "address_2 : lakeside manor\n",
            "suburb : nedlands\n",
            "postcode : 2477\n",
            "state : qld\n",
            "date_of_birth : 12/01/93\n",
            "soc_sec_id : 4513534\n",
            "\n",
            "first_name : ryley\n",
            "surname : oddt\n",
            "address_1 : mermaid stireet\n",
            "address_2 : lakeside manor\n",
            "suburb : nedlands\n",
            "postcode : 2477\n",
            "state : qld\n",
            "date_of_birth : 12/01/93\n",
            "soc_sec_id : 6059952\n",
            "\n",
            "10/10 positive, 9/10 negative\n",
            "Do these records refer to the same thing?\n",
            "(y)es / (n)o / (u)nsure / (f)inished / (p)revious\n"
          ]
        },
        {
          "name": "stdout",
          "output_type": "stream",
          "text": [
            "n\n"
          ]
        },
        {
          "output_type": "stream",
          "name": "stderr",
          "text": [
            "first_name : holly\n",
            "surname : brock\n",
            "address_1 : greenvale street\n",
            "address_2 : None\n",
            "suburb : st kilda east\n",
            "postcode : 5161\n",
            "state : vic\n",
            "date_of_birth : 03/19/02\n",
            "soc_sec_id : 3384771\n",
            "\n",
            "first_name : nan\n",
            "surname : brlxk\n",
            "address_1 : greenvale street\n",
            "address_2 : None\n",
            "suburb : st kilda east\n",
            "postcode : 5116\n",
            "state : vic\n",
            "date_of_birth : 03/19/02\n",
            "soc_sec_id : 3384172\n",
            "\n",
            "10/10 positive, 10/10 negative\n",
            "Do these records refer to the same thing?\n",
            "(y)es / (n)o / (u)nsure / (f)inished / (p)revious\n"
          ]
        },
        {
          "name": "stdout",
          "output_type": "stream",
          "text": [
            "u\n"
          ]
        },
        {
          "output_type": "stream",
          "name": "stderr",
          "text": [
            "first_name : charlotte\n",
            "surname : copperstone\n",
            "address_1 : eddy crescent\n",
            "address_2 : moodwood angus stud\n",
            "suburb : manunda\n",
            "postcode : 4121\n",
            "state : vic\n",
            "date_of_birth : 08/22/99\n",
            "soc_sec_id : 7446680\n",
            "\n",
            "first_name : sarah\n",
            "surname : bridgland\n",
            "address_1 : None\n",
            "address_2 : None\n",
            "suburb : pymblel\n",
            "postcode : 2340\n",
            "state : None\n",
            "date_of_birth : 04/22/00\n",
            "soc_sec_id : 1069194\n",
            "\n",
            "10/10 positive, 10/10 negative\n",
            "Do these records refer to the same thing?\n",
            "(y)es / (n)o / (u)nsure / (f)inished / (p)revious\n"
          ]
        },
        {
          "name": "stdout",
          "output_type": "stream",
          "text": [
            "f\n"
          ]
        },
        {
          "output_type": "stream",
          "name": "stderr",
          "text": [
            "Finished labeling\n"
          ]
        }
      ]
    },
    {
      "cell_type": "markdown",
      "metadata": {
        "id": "hQh7vO12uHbg"
      },
      "source": [
        "We can now train our linker, based on the labeling session feedback."
      ]
    },
    {
      "cell_type": "code",
      "metadata": {
        "id": "KoKc_M_cuHbh",
        "colab": {
          "base_uri": "https://localhost:8080/"
        },
        "outputId": "df2d77d1-013c-4cb2-8b11-59834c7107a4"
      },
      "source": [
        "%%time\n",
        "linker.train()"
      ],
      "execution_count": 12,
      "outputs": [
        {
          "output_type": "stream",
          "name": "stderr",
          "text": [
            "INFO:rlr.crossvalidation:using cross validation to find optimum alpha...\n",
            "INFO:rlr.crossvalidation:optimum alpha: 0.000100, score 0.3305338039941888\n",
            "INFO:dedupe.training:Final predicate set:\n"
          ]
        },
        {
          "output_type": "stream",
          "name": "stdout",
          "text": [
            "CPU times: user 13.1 s, sys: 3.06 s, total: 16.1 s\n",
            "Wall time: 13 s\n"
          ]
        }
      ]
    },
    {
      "cell_type": "markdown",
      "metadata": {
        "id": "JcVmhL99uHbh"
      },
      "source": [
        "Let's persist our training data (captured during in the labeling session), as well as the learned model weights."
      ]
    },
    {
      "cell_type": "code",
      "metadata": {
        "id": "loqZH_yguHbh"
      },
      "source": [
        "ACTIVE_LEARNING_DIR = WORKING_DIR / \"dedupe_active_learning\"\n",
        "ACTIVE_LEARNING_DIR.mkdir(parents=True, exist_ok=True)\n",
        "\n",
        "SETTINGS_FILE = ACTIVE_LEARNING_DIR / \"dedupe_learned_settings\"\n",
        "TRAINING_FILE = ACTIVE_LEARNING_DIR / \"dedupe_training.json\"\n",
        "\n",
        "with open(TRAINING_FILE, \"w\") as fh:\n",
        "    linker.write_training(fh)\n",
        "    \n",
        "with open(SETTINGS_FILE, \"wb\") as sf:\n",
        "    linker.write_settings(sf)"
      ],
      "execution_count": 13,
      "outputs": []
    },
    {
      "cell_type": "markdown",
      "metadata": {
        "id": "QTb286lPuHbi"
      },
      "source": [
        "## Examine Learned Blockers"
      ]
    },
    {
      "cell_type": "markdown",
      "metadata": {
        "id": "eZwDfZaHuHbi"
      },
      "source": [
        "Now, let's take a look at the predicates (blockers) that `dedupe` learned during our active learning labeling session. Note that `dedupe` can learn composite predicates/blockers, i.e. individual predicates can be combined with logical operators."
      ]
    },
    {
      "cell_type": "code",
      "metadata": {
        "id": "I1d90gALuHbj",
        "colab": {
          "base_uri": "https://localhost:8080/"
        },
        "outputId": "865c785f-1039-4153-be90-97c2c9c0948f"
      },
      "source": [
        "linker.predicates"
      ],
      "execution_count": 14,
      "outputs": [
        {
          "output_type": "execute_result",
          "data": {
            "text/plain": [
              "()"
            ]
          },
          "metadata": {},
          "execution_count": 14
        }
      ]
    },
    {
      "cell_type": "markdown",
      "metadata": {
        "id": "CRNl0vCVuHbj"
      },
      "source": [
        "Next, let's examine the resulting candidate pairs and look at our blocking efficiency. The `.pairs` method will give us all candidate record pairs that are generated by blocking with the learned blockers."
      ]
    },
    {
      "cell_type": "code",
      "metadata": {
        "id": "ZMlqRVU6uHbj",
        "colab": {
          "base_uri": "https://localhost:8080/"
        },
        "outputId": "26aeef9c-a8be-48da-ab00-0df8bca54e25"
      },
      "source": [
        "candidate_pairs = [x for x in linker.pairs(records_A, records_B)]\n",
        "print(f\"{len(candidate_pairs):,} candidate pairs generated from blocking.\")"
      ],
      "execution_count": 16,
      "outputs": [
        {
          "output_type": "stream",
          "name": "stdout",
          "text": [
            "0 candidate pairs generated from blocking.\n"
          ]
        }
      ]
    },
    {
      "cell_type": "markdown",
      "metadata": {
        "id": "uSSRxLeRuHbk"
      },
      "source": [
        "You'll notice that, in contrast to `recordlinkage`, our post-blocking candidate pairs contain both the record ids as well as the record metadata."
      ]
    },
    {
      "cell_type": "code",
      "metadata": {
        "id": "SxOPom2auHbl",
        "colab": {
          "base_uri": "https://localhost:8080/"
        },
        "outputId": "8435ec03-8d67-4411-be41-35f376a00c3b"
      },
      "source": [
        "candidate_pairs"
      ],
      "execution_count": 18,
      "outputs": [
        {
          "output_type": "execute_result",
          "data": {
            "text/plain": [
              "[]"
            ]
          },
          "metadata": {},
          "execution_count": 18
        }
      ]
    },
    {
      "cell_type": "markdown",
      "metadata": {
        "id": "lTDygrdJuHbl"
      },
      "source": [
        "We can assemble our candidate pair ids into an indexed pandas dataframe for easier comparision with our known true links."
      ]
    },
    {
      "cell_type": "code",
      "metadata": {
        "id": "oC51iB18vRTP"
      },
      "source": [
        "df_candidate_links = pd.DataFrame(\n",
        "    [(x[0][0], x[1][0]) for x in candidate_pairs]\n",
        ").rename(columns={0 : \"person_id_A\", 1 : \"person_id_B\"}).set_index([\"person_id_A\", \"person_id_B\"])\n",
        "\n",
        "df_candidate_links.head()"
      ],
      "execution_count": null,
      "outputs": []
    },
    {
      "cell_type": "markdown",
      "metadata": {
        "id": "rum5I5ANuHbm"
      },
      "source": [
        "Now, let's take a look at our learned blocker performance."
      ]
    },
    {
      "cell_type": "code",
      "metadata": {
        "id": "Cz9N3gPtuHbm"
      },
      "source": [
        "max_candidate_pairs = df_A.shape[0]*df_B.shape[0]\n",
        "\n",
        "print(f\"{max_candidate_pairs:,} total possible pairs.\")\n",
        "\n",
        "# Calculate search space reduction.\n",
        "search_space_reduction = round(1 - len(candidate_pairs)/max_candidate_pairs, 6)\n",
        "print(f\"\\n{len(candidate_pairs):,} pairs after full blocking: {search_space_reduction}% search space reduction.\")\n",
        "\n",
        "# Calculate retained true links percentage.\n",
        "total_true_links = df_ground_truth.shape[0]\n",
        "true_links_after_blocking = pd.merge(\n",
        "    df_ground_truth,\n",
        "    df_candidate_links,\n",
        "    left_index=True,\n",
        "    right_index=True,\n",
        "    how=\"inner\"\n",
        ").shape[0]\n",
        "\n",
        "retained_true_link_percent = round((true_links_after_blocking/total_true_links) * 100, 2)\n",
        "print(f\"{retained_true_link_percent}% true links retained after blocking.\")"
      ],
      "execution_count": null,
      "outputs": []
    },
    {
      "cell_type": "markdown",
      "metadata": {
        "id": "95LTIAlhuHbn"
      },
      "source": [
        "## Score Pairs and Examine Learned Classifier"
      ]
    },
    {
      "cell_type": "markdown",
      "metadata": {
        "id": "Wi9tPooKuHbn"
      },
      "source": [
        "After `dedupe` has trained blockers and a classification model based on our labeling session, we can link the records in our training dataset via the `.join` method."
      ]
    },
    {
      "cell_type": "code",
      "metadata": {
        "id": "xbc350piuHbo"
      },
      "source": [
        "%%time\n",
        "linked_records = linker.join(records_A, records_B, threshold=0.0, constraint=\"one-to-one\")"
      ],
      "execution_count": null,
      "outputs": []
    },
    {
      "cell_type": "markdown",
      "metadata": {
        "id": "qWrinSskuHbo"
      },
      "source": [
        "`linker.join` will return the links, along with a model confidence."
      ]
    },
    {
      "cell_type": "code",
      "metadata": {
        "id": "XxjyQ6dQuHbo"
      },
      "source": [
        "linked_records[0:3]"
      ],
      "execution_count": null,
      "outputs": []
    },
    {
      "cell_type": "markdown",
      "metadata": {
        "id": "E0eF2XyxuHbo"
      },
      "source": [
        "We'll format the `dedupe` linker predictions into a format that we can use with our existing evaluation functions."
      ]
    },
    {
      "cell_type": "code",
      "metadata": {
        "id": "jWAKagDRuHbo"
      },
      "source": [
        "df_predictions = pd.DataFrame(\n",
        "    [ {\"person_id_A\" : x[0][0], \"person_id_B\" : x[0][1], \"model_score\" : x[1]} for x in linked_records]\n",
        ")\n",
        "\n",
        "df_predictions = df_predictions.set_index([\"person_id_A\", \"person_id_B\"])\n",
        "\n",
        "df_predictions = pd.merge(\n",
        "    df_predictions,\n",
        "    df_ground_truth,\n",
        "    left_index=True,\n",
        "    right_index=True,\n",
        "    how=\"left\",\n",
        ")\n",
        "\n",
        "df_predictions[\"ground_truth\"].fillna(False, inplace=True)\n",
        "df_predictions"
      ],
      "execution_count": null,
      "outputs": []
    },
    {
      "cell_type": "markdown",
      "metadata": {
        "id": "yHdPdCUhuHbo"
      },
      "source": [
        "## Choosing a Linking Model Score Threshold"
      ]
    },
    {
      "cell_type": "markdown",
      "metadata": {
        "id": "XnTBSsBXuHbp"
      },
      "source": [
        "The `dedupe` `.join` method that we used to score our training data directly incorporates the learned blockers. Thus, note that the scored pairs appearing on the distribution represent blocked pairs, and that our blockers *significantly* reduced the candidate pair search space."
      ]
    },
    {
      "cell_type": "markdown",
      "metadata": {
        "id": "lix5dunvuHbp"
      },
      "source": [
        "### Model Score Distribution"
      ]
    },
    {
      "cell_type": "code",
      "metadata": {
        "id": "7zcwOi9IuHbp"
      },
      "source": [
        "df_predictions[\"ground_truth\"].value_counts()"
      ],
      "execution_count": null,
      "outputs": []
    },
    {
      "cell_type": "code",
      "metadata": {
        "id": "_rUeTLzvuHbp"
      },
      "source": [
        "tutorial.plot_model_score_distribution(df_predictions)"
      ],
      "execution_count": null,
      "outputs": []
    },
    {
      "cell_type": "markdown",
      "metadata": {
        "id": "mUGcUSRBuHbp"
      },
      "source": [
        "### Precision and Recall vs. Model Score"
      ]
    },
    {
      "cell_type": "code",
      "metadata": {
        "id": "Vkmidy8PuHbp"
      },
      "source": [
        "df_eval = tutorial.evaluate_linking(\n",
        "    df=df_predictions\n",
        ")"
      ],
      "execution_count": null,
      "outputs": []
    },
    {
      "cell_type": "code",
      "metadata": {
        "id": "d8rA0RauuHbq"
      },
      "source": [
        "df_eval.head()"
      ],
      "execution_count": null,
      "outputs": []
    },
    {
      "cell_type": "code",
      "metadata": {
        "id": "0Nsvf6mpuHbq"
      },
      "source": [
        "tutorial.plot_precision_recall_vs_threshold(df_eval)"
      ],
      "execution_count": null,
      "outputs": []
    },
    {
      "cell_type": "markdown",
      "metadata": {
        "id": "GW4j6k3quHbq"
      },
      "source": [
        "## Iterating with Active Learning"
      ]
    },
    {
      "cell_type": "markdown",
      "metadata": {
        "id": "oArJz152uHbq"
      },
      "source": [
        "When using active learning, we iterate on our linking solution, and incorporate progressively more labeled training data. Perhaps we're not satisfied with the current performance of the blockers or classifier, and we'd like to create more labeled examples for dedupe to train on.\n",
        "\n",
        "Recall that earlier, we saved off our existing training data from the first labeling session. We can load this persisted data into a `dedupe` linker, and kick off another labeling session. Perhaps, after investigating the data during our first cycle, we don't think that dedupe should include `address_1` and `address2` in its comparators."
      ]
    },
    {
      "cell_type": "markdown",
      "metadata": {
        "id": "Piy7GUGQuHbr"
      },
      "source": [
        "### Tweak the Linker and Use Existing Training Data"
      ]
    },
    {
      "cell_type": "code",
      "metadata": {
        "id": "nDheem9YuHbr"
      },
      "source": [
        "%%time\n",
        "\n",
        "fields = [\n",
        "    { \"field\" : \"first_name\", \"type\" : \"Name\" },\n",
        "    { \"field\" : \"surname\", \"type\" : \"Name\" },\n",
        "    { \"field\" : \"suburb\", \"type\" : \"ShortString\" },\n",
        "    { \"field\" : \"postcode\", \"type\" : \"Exact\" },\n",
        "    { \"field\" : \"state\", \"type\" : \"Exact\" },\n",
        "    { \"field\" : \"date_of_birth\", \"type\" : \"DateTime\" },\n",
        "    { \"field\" : \"soc_sec_id\", \"type\" : \"Exact\" },\n",
        "]\n",
        "\n",
        "linker2 = dedupe.RecordLink(fields)\n",
        "\n",
        "with open(TRAINING_FILE, \"r\") as fh:\n",
        "    linker2.prepare_training(records_A, records_B, training_file=fh)"
      ],
      "execution_count": null,
      "outputs": []
    },
    {
      "cell_type": "markdown",
      "metadata": {
        "id": "aA3hVQ6RuHbr"
      },
      "source": [
        "Now, we can kick off a second active learning/labeling session."
      ]
    },
    {
      "cell_type": "code",
      "metadata": {
        "id": "Gq2nXklOuHbr"
      },
      "source": [
        "dedupe.console_label(linker2)"
      ],
      "execution_count": null,
      "outputs": []
    },
    {
      "cell_type": "markdown",
      "metadata": {
        "id": "OHweuD91uHbr"
      },
      "source": [
        "### Retrain the Linker and Examine Blocking Performance"
      ]
    },
    {
      "cell_type": "markdown",
      "metadata": {
        "id": "o4Uxaz9DuHbs"
      },
      "source": [
        "Now, let's retrain, and examine blocker performance. Ideally, we see an improved true link retention following our second labeling session."
      ]
    },
    {
      "cell_type": "code",
      "metadata": {
        "id": "Msce9frVuHbs"
      },
      "source": [
        "%%time\n",
        "linker2.train()"
      ],
      "execution_count": null,
      "outputs": []
    },
    {
      "cell_type": "code",
      "metadata": {
        "id": "3GwsecinuHbs"
      },
      "source": [
        "candidate_pairs = [x for x in linker2.pairs(records_A, records_B)]\n",
        "print(f\"{len(candidate_pairs):,} candidate pairs generated from blocking.\")\n",
        "\n",
        "df_candidate_links = pd.DataFrame(\n",
        "    [(x[0][0], x[1][0]) for x in candidate_pairs]\n",
        ").rename(columns={0 : \"person_id_A\", 1 : \"person_id_B\"}).set_index([\"person_id_A\", \"person_id_B\"])\n",
        "\n",
        "max_candidate_pairs = df_A.shape[0]*df_B.shape[0]\n",
        "\n",
        "print(f\"{max_candidate_pairs:,} total possible pairs.\")\n",
        "\n",
        "# Calculate search space reduction.\n",
        "search_space_reduction = round(1 - len(candidate_pairs)/max_candidate_pairs, 6)\n",
        "print(f\"\\n{len(candidate_pairs):,} pairs after full blocking: {search_space_reduction}% search space reduction.\")\n",
        "\n",
        "# Calculate retained true links percentage.\n",
        "total_true_links = df_ground_truth.shape[0]\n",
        "true_links_after_blocking = pd.merge(\n",
        "    df_ground_truth,\n",
        "    df_candidate_links,\n",
        "    left_index=True,\n",
        "    right_index=True,\n",
        "    how=\"inner\"\n",
        ").shape[0]\n",
        "\n",
        "retained_true_link_percent = round((true_links_after_blocking/total_true_links) * 100, 2)\n",
        "print(f\"{retained_true_link_percent}% true links retained after blocking.\")"
      ],
      "execution_count": null,
      "outputs": []
    },
    {
      "cell_type": "markdown",
      "metadata": {
        "id": "kXJDwZRhuHbs"
      },
      "source": [
        "### Evaluate Classification Performance"
      ]
    },
    {
      "cell_type": "code",
      "metadata": {
        "id": "2oZ4IG_ruHbs"
      },
      "source": [
        "%%time\n",
        "linked_records = linker2.join(records_A, records_B, threshold=0.0, constraint=\"one-to-one\")"
      ],
      "execution_count": null,
      "outputs": []
    },
    {
      "cell_type": "code",
      "metadata": {
        "id": "4ixGqA-JuHbt"
      },
      "source": [
        "df_predictions = pd.DataFrame(\n",
        "    [ {\"person_id_A\" : x[0][0], \"person_id_B\" : x[0][1], \"model_score\" : x[1]} for x in linked_records]\n",
        ")\n",
        "\n",
        "df_predictions = df_predictions.set_index([\"person_id_A\", \"person_id_B\"])\n",
        "\n",
        "df_predictions = pd.merge(\n",
        "    df_predictions,\n",
        "    df_ground_truth,\n",
        "    left_index=True,\n",
        "    right_index=True,\n",
        "    how=\"left\",\n",
        ")\n",
        "\n",
        "df_predictions[\"ground_truth\"].fillna(False, inplace=True)\n",
        "df_predictions"
      ],
      "execution_count": null,
      "outputs": []
    },
    {
      "cell_type": "code",
      "metadata": {
        "id": "7PbpZtiOuHbt"
      },
      "source": [
        "df_predictions[\"ground_truth\"].value_counts()"
      ],
      "execution_count": null,
      "outputs": []
    },
    {
      "cell_type": "code",
      "metadata": {
        "id": "4YPJ3UxFuHbt"
      },
      "source": [
        "tutorial.plot_model_score_distribution(df_predictions)"
      ],
      "execution_count": null,
      "outputs": []
    },
    {
      "cell_type": "code",
      "metadata": {
        "id": "34UnNZr6uHbt"
      },
      "source": [
        "df_eval = tutorial.evaluate_linking(\n",
        "    df=df_predictions\n",
        ")\n",
        "\n",
        "tutorial.plot_precision_recall_vs_threshold(df_eval)"
      ],
      "execution_count": null,
      "outputs": []
    },
    {
      "cell_type": "code",
      "metadata": {
        "id": "MsMKkZTGuHbt"
      },
      "source": [
        ""
      ],
      "execution_count": null,
      "outputs": []
    }
  ]
}